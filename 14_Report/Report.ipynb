{
 "cells": [
  {
   "cell_type": "markdown",
   "id": "37d48914-cfd9-4da3-b159-110a1849000f",
   "metadata": {},
   "source": [
    "## Reconcile Products Table\n",
    "#### Contributors:\n",
    "##### Tean 8: Anthony Ung, Sean Jerzewski, Gideon Kipkorir"
   ]
  },
  {
   "cell_type": "markdown",
   "id": "26915c8a-0232-423c-ae47-49d679cd73a4",
   "metadata": {},
   "source": [
    "## 0. Dependencies and Global Variables"
   ]
  },
  {
   "cell_type": "code",
   "execution_count": 1,
   "id": "304114a3-0182-4ce5-88c5-e1fa37fd054b",
   "metadata": {},
   "outputs": [],
   "source": [
    "import os\n",
    "from enum import Enum\n",
    "import csv\n",
    "import sqlite3 as lite\n",
    "from decimal import Decimal\n",
    "from datetime import date, datetime, timedelta"
   ]
  },
  {
   "cell_type": "code",
   "execution_count": 2,
   "id": "1b9d0647-3a87-46b2-9516-badc43d7a9d3",
   "metadata": {},
   "outputs": [],
   "source": [
    "DB_HANDLES = {}"
   ]
  },
  {
   "cell_type": "markdown",
   "id": "fd289c6c-6987-4423-9aab-dd8b5da227fd",
   "metadata": {},
   "source": [
    "## 1. Gather the file paths\n",
    "  \n",
    "  \n",
    "## IMPORTANT: \n",
    "#### Most of these files are untracked on GitHub. it is each team members'   \n",
    "####   &emsp; &emsp; It is each team members' individual responsibilities  \n",
    "####   &emsp; &emsp; to build the Database and CSV files for themselves using the other Jupyter notebooks. "
   ]
  },
  {
   "cell_type": "code",
   "execution_count": 3,
   "id": "44966f46-338d-4c10-a689-546938f6e5f2",
   "metadata": {},
   "outputs": [],
   "source": [
    "FILE_PATHS = {\n",
    "    'DATA_MART' : './../01_Source_DBs/Region_C_Data_Mart.db'\n",
    "}\n",
    "\n",
    "DB_HANDLES = {}"
   ]
  },
  {
   "cell_type": "code",
   "execution_count": 4,
   "id": "eb20bb82-6fca-4b92-87b0-356e0a7f2a45",
   "metadata": {},
   "outputs": [
    {
     "name": "stdout",
     "output_type": "stream",
     "text": [
      "OK - DATA_MART - './../01_Source_DBs/Region_C_Data_Mart.db'\n"
     ]
    }
   ],
   "source": [
    "ALL_FILES_OK = True\n",
    "\n",
    "for file_key in FILE_PATHS:\n",
    "    file_name = FILE_PATHS[file_key]\n",
    "    file_exists = os.path.isfile(file_name)\n",
    "    \n",
    "    if(file_exists):\n",
    "        print(f'OK - {file_key} - \\'{file_name}\\'')\n",
    "    else:\n",
    "        ALL_FILES_OK = False\n",
    "        print(f'MISSING - {file_key} - \\'{file_name}\\'')\n",
    "\n",
    "if not ALL_FILES_OK:\n",
    "    raise SystemExit('\\n' \"ERROR!\" '\\n' \"You are missing files!\" '\\n' \"Read and Follow the Cell instructions provided.\")"
   ]
  },
  {
   "cell_type": "markdown",
   "id": "1ac09ea1-6ff6-4993-a0d0-16aa80f91631",
   "metadata": {},
   "source": [
    "## 2. Initialize the Database File and the Database API\n",
    "\n",
    "I originally made this Database API back in HW 2 and developed it throughout the semester"
   ]
  },
  {
   "cell_type": "code",
   "execution_count": 5,
   "id": "605c2ef5-249a-4511-a776-fe2d33c1058f",
   "metadata": {},
   "outputs": [],
   "source": [
    "'''\n",
    "    If I try to make db_options an inner class to db, \n",
    "        I get an error saying that the class is undefined.\n",
    "'''\n",
    "class db_options(Enum):\n",
    "        DEFAULT = 0\n",
    "        RETURN_RESULTS = 1\n",
    "        PRINT_RESULTS = 2\n",
    "\n",
    "class db:\n",
    "    \n",
    "    def __init__(self, name):\n",
    "        self.name = rf\"{name}\"\n",
    "\n",
    "    def connect(self):\n",
    "        self.con = lite.connect(self.name)\n",
    "        self.cur = self.con.cursor()\n",
    "\n",
    "    def build_table(self, name):      \n",
    "        self.execute_sql(f'DROP TABLE IF EXISTS {name}')\n",
    "        self.execute_sql(TABLE_DEFINITIONS[name])\n",
    "    \n",
    "    def execute_sql(self, sql, options=db_options.DEFAULT):\n",
    "        if (options.value & db_options.RETURN_RESULTS.value):\n",
    "            results = self.cur.execute(sql).fetchall()\n",
    "            return results\n",
    "        elif (options.value & db_options.PRINT_RESULTS.value):\n",
    "            results = self.cur.execute(sql).fetchall()\n",
    "            for row in results:\n",
    "                print(row)\n",
    "        else:\n",
    "            self.cur.execute(sql)\n",
    "\n",
    "    def execute_sql_values(self, sql, values, options=db_options.DEFAULT):\n",
    "        if (options.value & db_options.RETURN_RESULTS.value):\n",
    "            results = self.cur.execute(sql, values).fetchall()\n",
    "            return results\n",
    "        elif (options.value & db_options.PRINT_RESULTS.value):\n",
    "            results = self.cur.execute(sql, values).fetchall()\n",
    "            for row in results:\n",
    "                print(row)\n",
    "        else:\n",
    "            self.cur.execute(sql, values)\n",
    "\n",
    "\n",
    "    def commit(self):\n",
    "        self.con.commit()\n",
    "\n",
    "    def close(self):\n",
    "        self.con.commit()\n",
    "        self.con.close()"
   ]
  },
  {
   "cell_type": "code",
   "execution_count": 6,
   "id": "c4af7053-3e2f-47e7-84bf-2aae6e66cad3",
   "metadata": {},
   "outputs": [],
   "source": [
    "DB_HANDLES['DATA_MART'] = db(FILE_PATHS['DATA_MART'])"
   ]
  },
  {
   "cell_type": "markdown",
   "id": "4691d6f8-8e84-43c0-bdb2-61e766b5bc59",
   "metadata": {},
   "source": [
    "## 3. Top Selling Items for 2024 Q1 and 2025 Q1\n",
    "\n",
    "#### Known Bug\n",
    "ETL Script displays 2024 Q1 instead of 2025 Q1"
   ]
  },
  {
   "cell_type": "code",
   "execution_count": 16,
   "id": "b11aa1cc-3a0d-408f-b526-9a7067923441",
   "metadata": {},
   "outputs": [
    {
     "name": "stdout",
     "output_type": "stream",
     "text": [
      "(1294, 8, 'Q1 2024', 1, 2025, 10, 10, 2, 358.8, 90.0, 358.8, 90.0, 1, '42081001', 'Jambalaya Rice Mix', '57', 'Rice', 'Starchy Foods', 'Starchy Foods', 'Food', '12 oz', 'Zatarains', 'Rowan Warehouse', 4303551)\n"
     ]
    }
   ],
   "source": [
    "def run():\n",
    "    db_handle = DB_HANDLES['DATA_MART']\n",
    "\n",
    "    sql = \\\n",
    "        '''\n",
    "            SELECT *,\n",
    "                RANK() OVER (ORDER BY iq.TotalSoldByStoreThisQuarter DESC) AS rank\n",
    "            FROM inventory_quarterly AS iq\n",
    "            JOIN products AS p\n",
    "            WHERE (iq.Quarter = 1) AND (iq.Year = 2025)\n",
    "            ORDER BY rank DESC\n",
    "            LIMIT 1\n",
    "        '''\n",
    "\n",
    "    db_handle.connect()\n",
    "    results = db_handle.execute_sql(sql, options=db_options.RETURN_RESULTS)\n",
    "    for row in results:\n",
    "        print(row)\n",
    "    db_handle.close()\n",
    "    \n",
    "run()"
   ]
  },
  {
   "cell_type": "code",
   "execution_count": null,
   "id": "8061afff-27ec-4206-a983-4868c0657ef0",
   "metadata": {},
   "outputs": [],
   "source": []
  }
 ],
 "metadata": {
  "kernelspec": {
   "display_name": "Python 3 (ipykernel)",
   "language": "python",
   "name": "python3"
  },
  "language_info": {
   "codemirror_mode": {
    "name": "ipython",
    "version": 3
   },
   "file_extension": ".py",
   "mimetype": "text/x-python",
   "name": "python",
   "nbconvert_exporter": "python",
   "pygments_lexer": "ipython3",
   "version": "3.12.10"
  }
 },
 "nbformat": 4,
 "nbformat_minor": 5
}
