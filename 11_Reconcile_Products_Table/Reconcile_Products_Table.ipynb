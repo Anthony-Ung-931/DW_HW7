{
 "cells": [
  {
   "cell_type": "markdown",
   "id": "94337470-8a99-4eaa-b141-5e19204e6271",
   "metadata": {},
   "source": [
    "## Build Data Mart\n",
    "#### Contributors:\n",
    "##### Tean 8: Anthony Ung, Sean Jerzewski, Gideon Kipkorir\n",
    "##### Team 9: Rohith, Sneha Dasarla\n",
    "##### Team 10: Anmol Brahmbhatt, Nikita Brahmbhatt, Satya"
   ]
  },
  {
   "cell_type": "markdown",
   "id": "9caab487-12df-4dbb-8a99-3f40e4623a92",
   "metadata": {},
   "source": [
    "## 0. Dependencies and Global Variables"
   ]
  },
  {
   "cell_type": "code",
   "execution_count": 1,
   "id": "8209f4bf-a01a-43b5-9a28-92bb9caeb308",
   "metadata": {},
   "outputs": [],
   "source": [
    "import os\n",
    "from enum import Enum\n",
    "import csv\n",
    "import sqlite3 as lite\n",
    "from decimal import Decimal\n",
    "from datetime import date, datetime, timedelta"
   ]
  },
  {
   "cell_type": "markdown",
   "id": "b533b76b-eab1-4a9e-9892-7e598e8a7867",
   "metadata": {},
   "source": [
    "## 1. Gather the file paths\n",
    "  \n",
    "  \n",
    "## IMPORTANT: \n",
    "#### Most of these files are untracked on GitHub. it is each team members'   \n",
    "####   &emsp; &emsp; It is each team members' individual responsibilities  \n",
    "####   &emsp; &emsp; to build the Database and CSV files for themselves using the other Jupyter notebooks. "
   ]
  },
  {
   "cell_type": "code",
   "execution_count": 2,
   "id": "433fb727-990c-45d7-83d9-3c366f99d2a0",
   "metadata": {},
   "outputs": [],
   "source": [
    "FILE_PATHS = {\n",
    "    'DATA_MART_PATH' : './../01_Source_DBs/Region_C_Data_Mart.db',\n",
    "    'PRODUCTS_TABLE' : './ConformedProducts2.txt'\n",
    "}\n"
   ]
  },
  {
   "cell_type": "code",
   "execution_count": 3,
   "id": "b0ca7c9c-563c-438e-9cc6-73c0c34767fe",
   "metadata": {},
   "outputs": [
    {
     "name": "stdout",
     "output_type": "stream",
     "text": [
      "OK - DATA_MART_PATH - './../01_Source_DBs/Region_C_Data_Mart.db'\n",
      "OK - PRODUCTS_TABLE - './ConformedProducts2.txt'\n"
     ]
    }
   ],
   "source": [
    "ALL_FILES_OK = True\n",
    "\n",
    "for file_key in FILE_PATHS:\n",
    "    file_name = FILE_PATHS[file_key]\n",
    "    file_exists = os.path.isfile(file_name)\n",
    "    \n",
    "    if(file_exists):\n",
    "        print(f'OK - {file_key} - \\'{file_name}\\'')\n",
    "    else:\n",
    "        ALL_FILES_OK = False\n",
    "        print(f'MISSING - {file_key} - \\'{file_name}\\'')\n",
    "\n",
    "if not ALL_FILES_OK:\n",
    "    raise SystemExit('\\n' \"ERROR!\" '\\n' \"You are missing files!\" '\\n' \"Read and Follow the Cell instructions provided.\")"
   ]
  },
  {
   "cell_type": "markdown",
   "id": "d26b3967-e0c6-4402-ad5f-0a8740e9f737",
   "metadata": {},
   "source": [
    "## 2. Initialize the Database API"
   ]
  },
  {
   "cell_type": "code",
   "execution_count": 4,
   "id": "7a9cde88-0f37-456f-8c8e-8c50c51179b1",
   "metadata": {},
   "outputs": [],
   "source": [
    "'''\n",
    "    If I try to make db_options an inner class to db, \n",
    "        I get an error saying that the class is undefined.\n",
    "'''\n",
    "class db_options(Enum):\n",
    "        DEFAULT = 0\n",
    "        RETURN_RESULTS = 1\n",
    "        PRINT_RESULTS = 2\n",
    "\n",
    "class db:\n",
    "    \n",
    "    def __init__(self, name):\n",
    "        self.name = rf\"{name}\"\n",
    "\n",
    "    def connect(self):\n",
    "        self.con = lite.connect(self.name)\n",
    "        self.cur = self.con.cursor()\n",
    "\n",
    "    def build_table(self, name):      \n",
    "        self.execute_sql(f'DROP TABLE IF EXISTS {name}')\n",
    "        self.execute_sql(TABLE_DEFINITIONS[name])\n",
    "    \n",
    "    def execute_sql(self, sql, options=db_options.DEFAULT):\n",
    "        if (options.value & db_options.RETURN_RESULTS.value):\n",
    "            results = self.cur.execute(sql).fetchall()\n",
    "            return results\n",
    "        elif (options.value & db_options.PRINT_RESULTS.value):\n",
    "            results = self.cur.execute(sql).fetchall()\n",
    "            for row in results:\n",
    "                print(row)\n",
    "        else:\n",
    "            self.cur.execute(sql)\n",
    "\n",
    "    def execute_sql_values(self, sql, values, options=db_options.DEFAULT):\n",
    "        if (options.value & db_options.RETURN_RESULTS.value):\n",
    "            results = self.cur.execute(sql, values).fetchall()\n",
    "            return results\n",
    "        elif (options.value & db_options.PRINT_RESULTS.value):\n",
    "            results = self.cur.execute(sql, values).fetchall()\n",
    "            for row in results:\n",
    "                print(row)\n",
    "        else:\n",
    "            self.cur.execute(sql, values)\n",
    "\n",
    "\n",
    "    def commit(self):\n",
    "        self.con.commit()\n",
    "\n",
    "    def close(self):\n",
    "        self.con.commit()\n",
    "        self.con.close()"
   ]
  },
  {
   "cell_type": "markdown",
   "id": "a255d0a6-888c-4ea7-9c20-3e37690a1d2e",
   "metadata": {},
   "source": [
    "## 3. Build Products Table"
   ]
  },
  {
   "cell_type": "code",
   "execution_count": 5,
   "id": "65c83a38-a7a9-4f74-99e8-ff9424c3cd8e",
   "metadata": {},
   "outputs": [],
   "source": [
    "TABLE_DEFINITIONS = {\n",
    "    'products': \\\n",
    "            'CREATE TABLE products(' \\\n",
    "                    'ProductKey1 INT,' \\\n",
    "                    'sku TEXT, ' \\\n",
    "                    'product_name TEXT, ' \\\n",
    "                    'product_class_id TEXT, ' \\\n",
    "                    'subcategory TEXT, ' \\\n",
    "                    'category TEXT, ' \\\n",
    "                    'department TEXT, ' \\\n",
    "                    'product_family TEXT, ' \\\n",
    "                    'size TEXT, ' \\\n",
    "                    'brandName TEXT, ' \\\n",
    "                    'supplier TEXT)',\n",
    "}"
   ]
  },
  {
   "cell_type": "code",
   "execution_count": 15,
   "id": "11c71ab0-1982-492a-9a16-99f7124f444f",
   "metadata": {},
   "outputs": [],
   "source": [
    "def run():\n",
    "    db_handle = db(FILE_PATHS['DATA_MART_PATH'])\n",
    "\n",
    "    db_handle.connect()\n",
    "    db_handle.build_table('products')\n",
    "    db_handle.commit()\n",
    "\n",
    "    csv.register_dialect('tab', delimiter='\\t', quoting=csv.QUOTE_NONE)\n",
    "\n",
    "    with open(FILE_PATHS['PRODUCTS_TABLE'], 'r') as csvfile:\n",
    "        for row in csv.DictReader(csvfile, dialect='tab'):\n",
    "            ProductKey1 = row.get('ProductKey1')\n",
    "            sku = row.get('sku')\n",
    "            product_name = row.get('product_name')\n",
    "            product_class_id = row.get('product_class_id')\n",
    "            subcategory = row.get('subcategory')\n",
    "            category = row.get('category')\n",
    "            department = row.get('department')\n",
    "            product_family = row.get('product_family')\n",
    "            size = row.get('size')\n",
    "            brandName = row.get('brandName')\n",
    "            supplier = row.get('supplier')\n",
    "\n",
    "            db_handle.execute_sql_values( \\\n",
    "                sql='insert into products values (?, ?, ?, ?, ?, ?, ?, ?, ?, ?, ?)',\\\n",
    "                values=(ProductKey1, sku, product_name, product_class_id, subcategory, category, department, product_family, size, brandName, supplier)\n",
    "            )\n",
    "    \n",
    "    db_handle.commit()\n",
    "    db_handle.close()\n"
   ]
  },
  {
   "cell_type": "code",
   "execution_count": 16,
   "id": "5df89f95-2d0d-4258-b27e-2f51c9191ff5",
   "metadata": {},
   "outputs": [],
   "source": [
    "run()"
   ]
  },
  {
   "cell_type": "code",
   "execution_count": null,
   "id": "96461146-af33-47fe-8a74-97ab8ac943de",
   "metadata": {},
   "outputs": [],
   "source": []
  }
 ],
 "metadata": {
  "kernelspec": {
   "display_name": "Python 3 (ipykernel)",
   "language": "python",
   "name": "python3"
  },
  "language_info": {
   "codemirror_mode": {
    "name": "ipython",
    "version": 3
   },
   "file_extension": ".py",
   "mimetype": "text/x-python",
   "name": "python",
   "nbconvert_exporter": "python",
   "pygments_lexer": "ipython3",
   "version": "3.12.10"
  }
 },
 "nbformat": 4,
 "nbformat_minor": 5
}
